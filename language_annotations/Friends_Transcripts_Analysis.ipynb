{
  "cells": [
    {
      "cell_type": "markdown",
      "metadata": {
        "id": "u1rPXQL7TXvi"
      },
      "source": [
        "# Friends TV-Show 10 Season Transcript Exploratory Analysis\n",
        "\n",
        "This notebook aims to extract the characteristics of the discourse among the characters across 10 - seasons of the [Friends TV show (1994 - 2004)](https://www.imdb.com/title/tt0108778/).\n",
        "\n",
        "\n",
        "The aim of the notebook is to extract the word and ngram characteristics of the Friends corpus, the character specific structures and quantitative evaluation of the character, season and episode based distribution of word and dialogs.\n",
        "\n",
        "The functions used in this notebook are imported from the `friends_utils.py` module. To run the notebook, have the raw data in csv format and the `friends_utils.py` at the same path with the notebook."
      ]
    },
    {
      "cell_type": "code",
      "execution_count": 1,
      "metadata": {},
      "outputs": [
        {
          "name": "stderr",
          "output_type": "stream",
          "text": [
            "[nltk_data] Downloading package omw-1.4 to /home/isil/nltk_data...\n",
            "[nltk_data]   Package omw-1.4 is already up-to-date!\n",
            "[nltk_data] Downloading package stopwords to /home/isil/nltk_data...\n",
            "[nltk_data]   Package stopwords is already up-to-date!\n",
            "[nltk_data] Downloading package wordnet to /home/isil/nltk_data...\n",
            "[nltk_data]   Package wordnet is already up-to-date!\n"
          ]
        }
      ],
      "source": [
        "import sys\n",
        "import numpy as np\n",
        "import pandas as pd\n",
        "from friends_util import *"
      ]
    },
    {
      "cell_type": "markdown",
      "metadata": {
        "id": "2aT5isTwjT6H"
      },
      "source": [
        "# Load Data\n",
        "Load the comma separated narrator, discourse, episode and season details for the Friends data.\n",
        "\n"
      ]
    },
    {
      "cell_type": "code",
      "execution_count": 2,
      "metadata": {
        "colab": {
          "base_uri": "https://localhost:8080/"
        },
        "id": "QwPfb0wKru_4",
        "outputId": "4528f2e7-b01a-4157-b775-067a80ec243d"
      },
      "outputs": [],
      "source": [
        "# load the csv file for the transcript from the original dvs\n",
        "datapath= \"original_friends_transcripts.csv\"\n",
        "seasons, corpus, episodes, data =  load_csv_file(datapath)"
      ]
    },
    {
      "cell_type": "markdown",
      "metadata": {
        "id": "BkJ04jN2z0gp"
      },
      "source": [
        "# Word Characteristics\n",
        "\n",
        "### Total Number of Words"
      ]
    },
    {
      "cell_type": "code",
      "execution_count": 3,
      "metadata": {
        "colab": {
          "base_uri": "https://localhost:8080/"
        },
        "id": "ztd7ve_8Jaqc",
        "outputId": "bb49658f-c69b-4717-bd4f-c210db7aa985"
      },
      "outputs": [
        {
          "name": "stdout",
          "output_type": "stream",
          "text": [
            "The total number of words in ten season of Friends is 711496\n",
            "The total number of unique words in ten season of Friends is 22951\n"
          ]
        }
      ],
      "source": [
        "words, unique_words = word_characteristics(data)\n",
        "print(f\"The total number of words in ten season of Friends is {len(words)}\")\n",
        "print(f\"The total number of unique words in ten season of Friends is {len(unique_words)}\")\n"
      ]
    },
    {
      "cell_type": "markdown",
      "metadata": {
        "id": "d2l72nmldyMb"
      },
      "source": [
        "### Distribution of Words Across Seasons"
      ]
    },
    {
      "cell_type": "code",
      "execution_count": 4,
      "metadata": {
        "id": "XeiAR6Nk-8Wc"
      },
      "outputs": [
        {
          "name": "stdout",
          "output_type": "stream",
          "text": [
            "For season 1 the number of words is 65801\n",
            "For season 2 the number of words is 68735\n",
            "For season 3 the number of words is 73343\n",
            "For season 4 the number of words is 68768\n",
            "For season 5 the number of words is 70797\n",
            "For season 6 the number of words is 74764\n",
            "For season 7 the number of words is 72583\n",
            "For season 8 the number of words is 75240\n",
            "For season 9 the number of words is 81983\n",
            "For season 10 the number of words is 59482\n"
          ]
        },
        {
          "data": {
            "image/png": "[encoded data removed]",
            "text/plain": [
              "<Figure size 432x288 with 1 Axes>"
            ]
          },
          "metadata": {
            "needs_background": "light"
          },
          "output_type": "display_data"
        }
      ],
      "source": [
        "season_word, season_unique_word, freq_splits, unique_res, frequent_word_list, frequency_word_list, outlaws, = word_statistics(data)\n",
        "\n",
        "\n",
        "season_length = len(season_word)\n",
        "word_season_counts ={} \n",
        "for season in range(1,season_length+1):\n",
        "  print(f\"For season {season} the number of words is {len(season_word[season])}\")\n",
        "  word_season_counts[season] = len(season_word[season])\n",
        "\n",
        "value = pd.DataFrame({\"Season\": word_season_counts.keys(), \"Words\": word_season_counts.values()})\n",
        "\n",
        "plot_corpus_characteristics(value,\n",
        "                           title = \"Distribution of Words Across Seasons\",\n",
        "                           xlabel=  \"Season\", \n",
        "                           ylabel = \"Number of Words\",\n",
        "                           tilt= False, type = \"bar\"\n",
        "                           )\n"
      ]
    },
    {
      "cell_type": "code",
      "execution_count": 5,
      "metadata": {},
      "outputs": [
        {
          "name": "stdout",
          "output_type": "stream",
          "text": [
            "For season 1 the number of unique words is 4797\n",
            "For season 2 the number of unique words is 4947\n",
            "For season 3 the number of unique words is 5045\n",
            "For season 4 the number of unique words is 4416\n",
            "For season 5 the number of unique words is 4415\n",
            "For season 6 the number of unique words is 4261\n",
            "For season 7 the number of unique words is 4871\n",
            "For season 8 the number of unique words is 5049\n",
            "For season 9 the number of unique words is 5574\n",
            "For season 10 the number of unique words is 4523\n"
          ]
        },
        {
          "data": {
            "image/png": "[encoded data removed]",
            "text/plain": [
              "<Figure size 432x288 with 1 Axes>"
            ]
          },
          "metadata": {
            "needs_background": "light"
          },
          "output_type": "display_data"
        }
      ],
      "source": [
        "uniqueword_season_counts =  {}\n",
        "for season in range(1,11):\n",
        "  print(f\"For season {season} the number of unique words is {len(season_unique_word[season])}\")\n",
        "  uniqueword_season_counts[season] = len(season_unique_word[season])\n",
        "\n",
        "value = pd.DataFrame({\"Season\": uniqueword_season_counts.keys(), \"Words\": uniqueword_season_counts.values()})\n",
        "\n",
        "plot_corpus_characteristics(value,\n",
        "                           title = \"Distribution of Unique Words Across Seasons\",\n",
        "                           xlabel=  \"Season\", \n",
        "                           ylabel = \"Number of Unique Words\",\n",
        "                           tilt= False, type = \"bar\"\n",
        "                           )"
      ]
    },
    {
      "cell_type": "code",
      "execution_count": 6,
      "metadata": {
        "colab": {
          "base_uri": "https://localhost:8080/"
        },
        "id": "uRiQ73-23E17",
        "outputId": "9738b5e0-e561-4247-f463-dd3e9ff25378"
      },
      "outputs": [
        {
          "name": "stdout",
          "output_type": "stream",
          "text": [
            "For season 1 the top 10 most frequent words are [('I', 3122), ('YOU', 2949), ('S', 1612), ('THE', 1365), ('TO', 1325), ('IT', 1279), ('A', 1206), ('THAT', 986), ('AND', 929), ('T', 899)]\n",
            "For season 2 the top 10 most frequent words are [('I', 3183), ('YOU', 3034), ('S', 1539), ('THE', 1499), ('TO', 1474), ('IT', 1280), ('A', 1201), ('THAT', 1035), ('AND', 966), ('T', 897)]\n",
            "For season 3 the top 10 most frequent words are [('I', 3567), ('YOU', 3400), ('TO', 1754), ('S', 1685), ('THE', 1526), ('IT', 1455), ('A', 1240), ('THAT', 1169), ('AND', 1020), ('T', 1017)]\n",
            "For season 4 the top 10 most frequent words are [('I', 3475), ('YOU', 3069), ('TO', 1749), ('THE', 1447), ('S', 1425), ('IT', 1373), ('A', 1212), ('THAT', 1119), ('OH', 1054), ('AND', 1003)]\n",
            "For season 5 the top 10 most frequent words are [('I', 3663), ('YOU', 3285), ('TO', 1752), ('S', 1491), ('IT', 1437), ('THE', 1316), ('THAT', 1227), ('A', 1142), ('T', 995), ('OH', 948)]\n",
            "For season 6 the top 10 most frequent words are [('I', 3727), ('YOU', 3563), ('TO', 1921), ('S', 1597), ('THE', 1512), ('IT', 1449), ('A', 1311), ('THAT', 1288), ('T', 1117), ('AND', 1068)]\n",
            "For season 7 the top 10 most frequent words are [('I', 3484), ('you', 2644), ('to', 1759), ('the', 1482), ('s', 1460), ('a', 1220), ('it', 1088), ('that', 1046), ('t', 1024), ('and', 924)]\n",
            "For season 8 the top 10 most frequent words are [('I', 3945), ('you', 2722), ('to', 1906), ('s', 1714), ('the', 1479), ('a', 1408), ('it', 1207), ('t', 1124), ('Oh', 1055), ('that', 925)]\n",
            "For season 9 the top 10 most frequent words are [('I', 4350), ('you', 3046), ('to', 2101), ('s', 1721), ('the', 1556), ('a', 1534), ('t', 1302), ('that', 1125), ('it', 1102), ('Oh', 961)]\n",
            "For season 10 the top 10 most frequent words are [('I', 2897), ('you', 2091), ('to', 1556), ('s', 1319), ('the', 1150), ('a', 1003), ('it', 897), ('t', 875), ('Oh', 814), ('that', 729)]\n"
          ]
        }
      ],
      "source": [
        "for season in range(1,11):\n",
        "  print(f\"For season {season} the top 10 most frequent words are {freq_splits[season].most_common(10)}\")"
      ]
    },
    {
      "cell_type": "code",
      "execution_count": 7,
      "metadata": {
        "id": "RnggmWRmTTlb"
      },
      "outputs": [
        {
          "data": {
            "image/png": "[encoded data removed]",
            "text/plain": [
              "<Figure size 432x288 with 1 Axes>"
            ]
          },
          "metadata": {
            "needs_background": "light"
          },
          "output_type": "display_data"
        }
      ],
      "source": [
        "word_frequency = pd.DataFrame({\"Words\": frequent_word_list, \"Frequency\": frequency_word_list})\n",
        "plot_corpus_characteristics(word_frequency,\n",
        "                           title = \"Distribution of Most Frequent Words\",\n",
        "                           xlabel=  \"Words\", \n",
        "                           ylabel = \"Number of Words\",\n",
        "                           tilt = True, \n",
        "                           type = \"bar\"\n",
        "                           )"
      ]
    },
    {
      "cell_type": "code",
      "execution_count": 8,
      "metadata": {
        "colab": {
          "base_uri": "https://localhost:8080/"
        },
        "id": "bD4v8XhlLFqH",
        "outputId": "11b6a798-0ddb-47c3-9f03-1af7dcc1db72"
      },
      "outputs": [
        {
          "name": "stdout",
          "output_type": "stream",
          "text": [
            "In season 1, 141 strings are outlaw words, that is 0.00019817398832881704 of total\n",
            "In season 1, example of outlaw strings are ['MMM', 'MMM', 'MWAAAHH', 'MWAAAHH', 'BWAAAAA', 'MMM', 'MMM', 'NOOOO', 'MMM', 'MMM', 'HELLOOO', 'SOOO', 'MMM', 'MMM', 'MMM', 'MMM', 'MMM', 'OHHH', 'MMM', 'MMM', 'HELLOOOO', 'MMM', 'MMM', 'MMM', 'MMM', 'MMM', 'MMM', 'OHHH', 'MMM', 'MMM', 'MMM', 'MMM', 'MMM', 'SEEEVER', 'MMM', 'MMM', 'MMM', 'MMM', 'MMM', 'MMM', 'BZZZ', 'AHHH', 'MMM', 'MMM', 'MMM', 'MMM', 'REEE', 'MMM', 'MMM', 'MMM', 'MMM', 'MMM', 'MMM', 'MMM', 'MMM', 'MMM', 'MMM', 'MMM', 'MMM', 'MMM', 'OOOOOOH', 'OOOOOOH', 'OOOOOOH', 'OOOOOOH', 'MMM', 'MMM', 'MMM', 'MMM', 'MMM', 'MMM', 'MMM', 'MMM', 'MMM', 'MMM', 'MMM', 'MMM', 'MMM', 'GIIIFT', 'MONNN', 'MMM', 'MMM', 'MMM', 'AHHHH', 'MMM', 'MMM', 'MMM', 'MMM', 'MMM', 'MMM', 'MMMSOUP', 'MMM', 'MMM', 'MMM', 'MMM', 'MMM', 'MMM', 'MMM', 'MMM', 'MMM', 'MMM', 'MMM', 'MMM', 'MMM', 'MMM', 'MMM', 'MMM', 'MMM', 'MMM', 'MMM', 'MMM', 'MMM', 'MMM', 'MMM', 'MMM', 'MMM', 'MMM', 'MMM', 'MMM', 'MMM', 'MMM', 'AHHH', 'AHHH', 'MMM', 'MMM', 'faaaaaaaaa', 'faaaaaaaaa', 'faaaaa', 'III', 'Ahhh', 'Grrreat', 'mmm', 'mmm', 'Mmmm', 'mmm', 'Weeennnerrr', 'uhhhh', 'www', 'sss', 'mooo', 'Noooooo', 'tsss']\n",
            "In season 2, 141 strings are outlaw words, that is 0.00019817398832881704 of total\n",
            "In season 2, example of outlaw strings are ['MMM', 'MMM', 'MWAAAHH', 'MWAAAHH', 'BWAAAAA', 'MMM', 'MMM', 'NOOOO', 'MMM', 'MMM', 'HELLOOO', 'SOOO', 'MMM', 'MMM', 'MMM', 'MMM', 'MMM', 'OHHH', 'MMM', 'MMM', 'HELLOOOO', 'MMM', 'MMM', 'MMM', 'MMM', 'MMM', 'MMM', 'OHHH', 'MMM', 'MMM', 'MMM', 'MMM', 'MMM', 'SEEEVER', 'MMM', 'MMM', 'MMM', 'MMM', 'MMM', 'MMM', 'BZZZ', 'AHHH', 'MMM', 'MMM', 'MMM', 'MMM', 'REEE', 'MMM', 'MMM', 'MMM', 'MMM', 'MMM', 'MMM', 'MMM', 'MMM', 'MMM', 'MMM', 'MMM', 'MMM', 'MMM', 'OOOOOOH', 'OOOOOOH', 'OOOOOOH', 'OOOOOOH', 'MMM', 'MMM', 'MMM', 'MMM', 'MMM', 'MMM', 'MMM', 'MMM', 'MMM', 'MMM', 'MMM', 'MMM', 'MMM', 'GIIIFT', 'MONNN', 'MMM', 'MMM', 'MMM', 'AHHHH', 'MMM', 'MMM', 'MMM', 'MMM', 'MMM', 'MMM', 'MMMSOUP', 'MMM', 'MMM', 'MMM', 'MMM', 'MMM', 'MMM', 'MMM', 'MMM', 'MMM', 'MMM', 'MMM', 'MMM', 'MMM', 'MMM', 'MMM', 'MMM', 'MMM', 'MMM', 'MMM', 'MMM', 'MMM', 'MMM', 'MMM', 'MMM', 'MMM', 'MMM', 'MMM', 'MMM', 'MMM', 'MMM', 'AHHH', 'AHHH', 'MMM', 'MMM', 'faaaaaaaaa', 'faaaaaaaaa', 'faaaaa', 'III', 'Ahhh', 'Grrreat', 'mmm', 'mmm', 'Mmmm', 'mmm', 'Weeennnerrr', 'uhhhh', 'www', 'sss', 'mooo', 'Noooooo', 'tsss']\n",
            "In season 3, 141 strings are outlaw words, that is 0.00019817398832881704 of total\n",
            "In season 3, example of outlaw strings are ['MMM', 'MMM', 'MWAAAHH', 'MWAAAHH', 'BWAAAAA', 'MMM', 'MMM', 'NOOOO', 'MMM', 'MMM', 'HELLOOO', 'SOOO', 'MMM', 'MMM', 'MMM', 'MMM', 'MMM', 'OHHH', 'MMM', 'MMM', 'HELLOOOO', 'MMM', 'MMM', 'MMM', 'MMM', 'MMM', 'MMM', 'OHHH', 'MMM', 'MMM', 'MMM', 'MMM', 'MMM', 'SEEEVER', 'MMM', 'MMM', 'MMM', 'MMM', 'MMM', 'MMM', 'BZZZ', 'AHHH', 'MMM', 'MMM', 'MMM', 'MMM', 'REEE', 'MMM', 'MMM', 'MMM', 'MMM', 'MMM', 'MMM', 'MMM', 'MMM', 'MMM', 'MMM', 'MMM', 'MMM', 'MMM', 'OOOOOOH', 'OOOOOOH', 'OOOOOOH', 'OOOOOOH', 'MMM', 'MMM', 'MMM', 'MMM', 'MMM', 'MMM', 'MMM', 'MMM', 'MMM', 'MMM', 'MMM', 'MMM', 'MMM', 'GIIIFT', 'MONNN', 'MMM', 'MMM', 'MMM', 'AHHHH', 'MMM', 'MMM', 'MMM', 'MMM', 'MMM', 'MMM', 'MMMSOUP', 'MMM', 'MMM', 'MMM', 'MMM', 'MMM', 'MMM', 'MMM', 'MMM', 'MMM', 'MMM', 'MMM', 'MMM', 'MMM', 'MMM', 'MMM', 'MMM', 'MMM', 'MMM', 'MMM', 'MMM', 'MMM', 'MMM', 'MMM', 'MMM', 'MMM', 'MMM', 'MMM', 'MMM', 'MMM', 'MMM', 'AHHH', 'AHHH', 'MMM', 'MMM', 'faaaaaaaaa', 'faaaaaaaaa', 'faaaaa', 'III', 'Ahhh', 'Grrreat', 'mmm', 'mmm', 'Mmmm', 'mmm', 'Weeennnerrr', 'uhhhh', 'www', 'sss', 'mooo', 'Noooooo', 'tsss']\n",
            "In season 4, 141 strings are outlaw words, that is 0.00019817398832881704 of total\n",
            "In season 4, example of outlaw strings are ['MMM', 'MMM', 'MWAAAHH', 'MWAAAHH', 'BWAAAAA', 'MMM', 'MMM', 'NOOOO', 'MMM', 'MMM', 'HELLOOO', 'SOOO', 'MMM', 'MMM', 'MMM', 'MMM', 'MMM', 'OHHH', 'MMM', 'MMM', 'HELLOOOO', 'MMM', 'MMM', 'MMM', 'MMM', 'MMM', 'MMM', 'OHHH', 'MMM', 'MMM', 'MMM', 'MMM', 'MMM', 'SEEEVER', 'MMM', 'MMM', 'MMM', 'MMM', 'MMM', 'MMM', 'BZZZ', 'AHHH', 'MMM', 'MMM', 'MMM', 'MMM', 'REEE', 'MMM', 'MMM', 'MMM', 'MMM', 'MMM', 'MMM', 'MMM', 'MMM', 'MMM', 'MMM', 'MMM', 'MMM', 'MMM', 'OOOOOOH', 'OOOOOOH', 'OOOOOOH', 'OOOOOOH', 'MMM', 'MMM', 'MMM', 'MMM', 'MMM', 'MMM', 'MMM', 'MMM', 'MMM', 'MMM', 'MMM', 'MMM', 'MMM', 'GIIIFT', 'MONNN', 'MMM', 'MMM', 'MMM', 'AHHHH', 'MMM', 'MMM', 'MMM', 'MMM', 'MMM', 'MMM', 'MMMSOUP', 'MMM', 'MMM', 'MMM', 'MMM', 'MMM', 'MMM', 'MMM', 'MMM', 'MMM', 'MMM', 'MMM', 'MMM', 'MMM', 'MMM', 'MMM', 'MMM', 'MMM', 'MMM', 'MMM', 'MMM', 'MMM', 'MMM', 'MMM', 'MMM', 'MMM', 'MMM', 'MMM', 'MMM', 'MMM', 'MMM', 'AHHH', 'AHHH', 'MMM', 'MMM', 'faaaaaaaaa', 'faaaaaaaaa', 'faaaaa', 'III', 'Ahhh', 'Grrreat', 'mmm', 'mmm', 'Mmmm', 'mmm', 'Weeennnerrr', 'uhhhh', 'www', 'sss', 'mooo', 'Noooooo', 'tsss']\n",
            "In season 5, 141 strings are outlaw words, that is 0.00019817398832881704 of total\n",
            "In season 5, example of outlaw strings are ['MMM', 'MMM', 'MWAAAHH', 'MWAAAHH', 'BWAAAAA', 'MMM', 'MMM', 'NOOOO', 'MMM', 'MMM', 'HELLOOO', 'SOOO', 'MMM', 'MMM', 'MMM', 'MMM', 'MMM', 'OHHH', 'MMM', 'MMM', 'HELLOOOO', 'MMM', 'MMM', 'MMM', 'MMM', 'MMM', 'MMM', 'OHHH', 'MMM', 'MMM', 'MMM', 'MMM', 'MMM', 'SEEEVER', 'MMM', 'MMM', 'MMM', 'MMM', 'MMM', 'MMM', 'BZZZ', 'AHHH', 'MMM', 'MMM', 'MMM', 'MMM', 'REEE', 'MMM', 'MMM', 'MMM', 'MMM', 'MMM', 'MMM', 'MMM', 'MMM', 'MMM', 'MMM', 'MMM', 'MMM', 'MMM', 'OOOOOOH', 'OOOOOOH', 'OOOOOOH', 'OOOOOOH', 'MMM', 'MMM', 'MMM', 'MMM', 'MMM', 'MMM', 'MMM', 'MMM', 'MMM', 'MMM', 'MMM', 'MMM', 'MMM', 'GIIIFT', 'MONNN', 'MMM', 'MMM', 'MMM', 'AHHHH', 'MMM', 'MMM', 'MMM', 'MMM', 'MMM', 'MMM', 'MMMSOUP', 'MMM', 'MMM', 'MMM', 'MMM', 'MMM', 'MMM', 'MMM', 'MMM', 'MMM', 'MMM', 'MMM', 'MMM', 'MMM', 'MMM', 'MMM', 'MMM', 'MMM', 'MMM', 'MMM', 'MMM', 'MMM', 'MMM', 'MMM', 'MMM', 'MMM', 'MMM', 'MMM', 'MMM', 'MMM', 'MMM', 'AHHH', 'AHHH', 'MMM', 'MMM', 'faaaaaaaaa', 'faaaaaaaaa', 'faaaaa', 'III', 'Ahhh', 'Grrreat', 'mmm', 'mmm', 'Mmmm', 'mmm', 'Weeennnerrr', 'uhhhh', 'www', 'sss', 'mooo', 'Noooooo', 'tsss']\n",
            "In season 6, 141 strings are outlaw words, that is 0.00019817398832881704 of total\n",
            "In season 6, example of outlaw strings are ['MMM', 'MMM', 'MWAAAHH', 'MWAAAHH', 'BWAAAAA', 'MMM', 'MMM', 'NOOOO', 'MMM', 'MMM', 'HELLOOO', 'SOOO', 'MMM', 'MMM', 'MMM', 'MMM', 'MMM', 'OHHH', 'MMM', 'MMM', 'HELLOOOO', 'MMM', 'MMM', 'MMM', 'MMM', 'MMM', 'MMM', 'OHHH', 'MMM', 'MMM', 'MMM', 'MMM', 'MMM', 'SEEEVER', 'MMM', 'MMM', 'MMM', 'MMM', 'MMM', 'MMM', 'BZZZ', 'AHHH', 'MMM', 'MMM', 'MMM', 'MMM', 'REEE', 'MMM', 'MMM', 'MMM', 'MMM', 'MMM', 'MMM', 'MMM', 'MMM', 'MMM', 'MMM', 'MMM', 'MMM', 'MMM', 'OOOOOOH', 'OOOOOOH', 'OOOOOOH', 'OOOOOOH', 'MMM', 'MMM', 'MMM', 'MMM', 'MMM', 'MMM', 'MMM', 'MMM', 'MMM', 'MMM', 'MMM', 'MMM', 'MMM', 'GIIIFT', 'MONNN', 'MMM', 'MMM', 'MMM', 'AHHHH', 'MMM', 'MMM', 'MMM', 'MMM', 'MMM', 'MMM', 'MMMSOUP', 'MMM', 'MMM', 'MMM', 'MMM', 'MMM', 'MMM', 'MMM', 'MMM', 'MMM', 'MMM', 'MMM', 'MMM', 'MMM', 'MMM', 'MMM', 'MMM', 'MMM', 'MMM', 'MMM', 'MMM', 'MMM', 'MMM', 'MMM', 'MMM', 'MMM', 'MMM', 'MMM', 'MMM', 'MMM', 'MMM', 'AHHH', 'AHHH', 'MMM', 'MMM', 'faaaaaaaaa', 'faaaaaaaaa', 'faaaaa', 'III', 'Ahhh', 'Grrreat', 'mmm', 'mmm', 'Mmmm', 'mmm', 'Weeennnerrr', 'uhhhh', 'www', 'sss', 'mooo', 'Noooooo', 'tsss']\n",
            "In season 7, 141 strings are outlaw words, that is 0.00019817398832881704 of total\n",
            "In season 7, example of outlaw strings are ['MMM', 'MMM', 'MWAAAHH', 'MWAAAHH', 'BWAAAAA', 'MMM', 'MMM', 'NOOOO', 'MMM', 'MMM', 'HELLOOO', 'SOOO', 'MMM', 'MMM', 'MMM', 'MMM', 'MMM', 'OHHH', 'MMM', 'MMM', 'HELLOOOO', 'MMM', 'MMM', 'MMM', 'MMM', 'MMM', 'MMM', 'OHHH', 'MMM', 'MMM', 'MMM', 'MMM', 'MMM', 'SEEEVER', 'MMM', 'MMM', 'MMM', 'MMM', 'MMM', 'MMM', 'BZZZ', 'AHHH', 'MMM', 'MMM', 'MMM', 'MMM', 'REEE', 'MMM', 'MMM', 'MMM', 'MMM', 'MMM', 'MMM', 'MMM', 'MMM', 'MMM', 'MMM', 'MMM', 'MMM', 'MMM', 'OOOOOOH', 'OOOOOOH', 'OOOOOOH', 'OOOOOOH', 'MMM', 'MMM', 'MMM', 'MMM', 'MMM', 'MMM', 'MMM', 'MMM', 'MMM', 'MMM', 'MMM', 'MMM', 'MMM', 'GIIIFT', 'MONNN', 'MMM', 'MMM', 'MMM', 'AHHHH', 'MMM', 'MMM', 'MMM', 'MMM', 'MMM', 'MMM', 'MMMSOUP', 'MMM', 'MMM', 'MMM', 'MMM', 'MMM', 'MMM', 'MMM', 'MMM', 'MMM', 'MMM', 'MMM', 'MMM', 'MMM', 'MMM', 'MMM', 'MMM', 'MMM', 'MMM', 'MMM', 'MMM', 'MMM', 'MMM', 'MMM', 'MMM', 'MMM', 'MMM', 'MMM', 'MMM', 'MMM', 'MMM', 'AHHH', 'AHHH', 'MMM', 'MMM', 'faaaaaaaaa', 'faaaaaaaaa', 'faaaaa', 'III', 'Ahhh', 'Grrreat', 'mmm', 'mmm', 'Mmmm', 'mmm', 'Weeennnerrr', 'uhhhh', 'www', 'sss', 'mooo', 'Noooooo', 'tsss']\n",
            "In season 8, 141 strings are outlaw words, that is 0.00019817398832881704 of total\n",
            "In season 8, example of outlaw strings are ['MMM', 'MMM', 'MWAAAHH', 'MWAAAHH', 'BWAAAAA', 'MMM', 'MMM', 'NOOOO', 'MMM', 'MMM', 'HELLOOO', 'SOOO', 'MMM', 'MMM', 'MMM', 'MMM', 'MMM', 'OHHH', 'MMM', 'MMM', 'HELLOOOO', 'MMM', 'MMM', 'MMM', 'MMM', 'MMM', 'MMM', 'OHHH', 'MMM', 'MMM', 'MMM', 'MMM', 'MMM', 'SEEEVER', 'MMM', 'MMM', 'MMM', 'MMM', 'MMM', 'MMM', 'BZZZ', 'AHHH', 'MMM', 'MMM', 'MMM', 'MMM', 'REEE', 'MMM', 'MMM', 'MMM', 'MMM', 'MMM', 'MMM', 'MMM', 'MMM', 'MMM', 'MMM', 'MMM', 'MMM', 'MMM', 'OOOOOOH', 'OOOOOOH', 'OOOOOOH', 'OOOOOOH', 'MMM', 'MMM', 'MMM', 'MMM', 'MMM', 'MMM', 'MMM', 'MMM', 'MMM', 'MMM', 'MMM', 'MMM', 'MMM', 'GIIIFT', 'MONNN', 'MMM', 'MMM', 'MMM', 'AHHHH', 'MMM', 'MMM', 'MMM', 'MMM', 'MMM', 'MMM', 'MMMSOUP', 'MMM', 'MMM', 'MMM', 'MMM', 'MMM', 'MMM', 'MMM', 'MMM', 'MMM', 'MMM', 'MMM', 'MMM', 'MMM', 'MMM', 'MMM', 'MMM', 'MMM', 'MMM', 'MMM', 'MMM', 'MMM', 'MMM', 'MMM', 'MMM', 'MMM', 'MMM', 'MMM', 'MMM', 'MMM', 'MMM', 'AHHH', 'AHHH', 'MMM', 'MMM', 'faaaaaaaaa', 'faaaaaaaaa', 'faaaaa', 'III', 'Ahhh', 'Grrreat', 'mmm', 'mmm', 'Mmmm', 'mmm', 'Weeennnerrr', 'uhhhh', 'www', 'sss', 'mooo', 'Noooooo', 'tsss']\n",
            "In season 9, 141 strings are outlaw words, that is 0.00019817398832881704 of total\n",
            "In season 9, example of outlaw strings are ['MMM', 'MMM', 'MWAAAHH', 'MWAAAHH', 'BWAAAAA', 'MMM', 'MMM', 'NOOOO', 'MMM', 'MMM', 'HELLOOO', 'SOOO', 'MMM', 'MMM', 'MMM', 'MMM', 'MMM', 'OHHH', 'MMM', 'MMM', 'HELLOOOO', 'MMM', 'MMM', 'MMM', 'MMM', 'MMM', 'MMM', 'OHHH', 'MMM', 'MMM', 'MMM', 'MMM', 'MMM', 'SEEEVER', 'MMM', 'MMM', 'MMM', 'MMM', 'MMM', 'MMM', 'BZZZ', 'AHHH', 'MMM', 'MMM', 'MMM', 'MMM', 'REEE', 'MMM', 'MMM', 'MMM', 'MMM', 'MMM', 'MMM', 'MMM', 'MMM', 'MMM', 'MMM', 'MMM', 'MMM', 'MMM', 'OOOOOOH', 'OOOOOOH', 'OOOOOOH', 'OOOOOOH', 'MMM', 'MMM', 'MMM', 'MMM', 'MMM', 'MMM', 'MMM', 'MMM', 'MMM', 'MMM', 'MMM', 'MMM', 'MMM', 'GIIIFT', 'MONNN', 'MMM', 'MMM', 'MMM', 'AHHHH', 'MMM', 'MMM', 'MMM', 'MMM', 'MMM', 'MMM', 'MMMSOUP', 'MMM', 'MMM', 'MMM', 'MMM', 'MMM', 'MMM', 'MMM', 'MMM', 'MMM', 'MMM', 'MMM', 'MMM', 'MMM', 'MMM', 'MMM', 'MMM', 'MMM', 'MMM', 'MMM', 'MMM', 'MMM', 'MMM', 'MMM', 'MMM', 'MMM', 'MMM', 'MMM', 'MMM', 'MMM', 'MMM', 'AHHH', 'AHHH', 'MMM', 'MMM', 'faaaaaaaaa', 'faaaaaaaaa', 'faaaaa', 'III', 'Ahhh', 'Grrreat', 'mmm', 'mmm', 'Mmmm', 'mmm', 'Weeennnerrr', 'uhhhh', 'www', 'sss', 'mooo', 'Noooooo', 'tsss']\n",
            "In season 10, 141 strings are outlaw words, that is 0.00019817398832881704 of total\n",
            "In season 10, example of outlaw strings are ['MMM', 'MMM', 'MWAAAHH', 'MWAAAHH', 'BWAAAAA', 'MMM', 'MMM', 'NOOOO', 'MMM', 'MMM', 'HELLOOO', 'SOOO', 'MMM', 'MMM', 'MMM', 'MMM', 'MMM', 'OHHH', 'MMM', 'MMM', 'HELLOOOO', 'MMM', 'MMM', 'MMM', 'MMM', 'MMM', 'MMM', 'OHHH', 'MMM', 'MMM', 'MMM', 'MMM', 'MMM', 'SEEEVER', 'MMM', 'MMM', 'MMM', 'MMM', 'MMM', 'MMM', 'BZZZ', 'AHHH', 'MMM', 'MMM', 'MMM', 'MMM', 'REEE', 'MMM', 'MMM', 'MMM', 'MMM', 'MMM', 'MMM', 'MMM', 'MMM', 'MMM', 'MMM', 'MMM', 'MMM', 'MMM', 'OOOOOOH', 'OOOOOOH', 'OOOOOOH', 'OOOOOOH', 'MMM', 'MMM', 'MMM', 'MMM', 'MMM', 'MMM', 'MMM', 'MMM', 'MMM', 'MMM', 'MMM', 'MMM', 'MMM', 'GIIIFT', 'MONNN', 'MMM', 'MMM', 'MMM', 'AHHHH', 'MMM', 'MMM', 'MMM', 'MMM', 'MMM', 'MMM', 'MMMSOUP', 'MMM', 'MMM', 'MMM', 'MMM', 'MMM', 'MMM', 'MMM', 'MMM', 'MMM', 'MMM', 'MMM', 'MMM', 'MMM', 'MMM', 'MMM', 'MMM', 'MMM', 'MMM', 'MMM', 'MMM', 'MMM', 'MMM', 'MMM', 'MMM', 'MMM', 'MMM', 'MMM', 'MMM', 'MMM', 'MMM', 'AHHH', 'AHHH', 'MMM', 'MMM', 'faaaaaaaaa', 'faaaaaaaaa', 'faaaaa', 'III', 'Ahhh', 'Grrreat', 'mmm', 'mmm', 'Mmmm', 'mmm', 'Weeennnerrr', 'uhhhh', 'www', 'sss', 'mooo', 'Noooooo', 'tsss']\n"
          ]
        }
      ],
      "source": [
        "for season in range(1,11):\n",
        "    print(f\"In season {season}, {len(outlaws)} strings are outlaw words, that is {len(outlaws)/ len(words)} of total\")\n",
        "    print(f\"In season {season}, example of outlaw strings are {outlaws}\")"
      ]
    },
    {
      "cell_type": "code",
      "execution_count": 9,
      "metadata": {
        "colab": {
          "base_uri": "https://localhost:8080/"
        },
        "id": "6r_0Ps9VV3fq",
        "outputId": "16d3e501-fd6e-476c-b1ad-348d21262471"
      },
      "outputs": [
        {
          "name": "stdout",
          "output_type": "stream",
          "text": [
            "Across all seasons 141 strings are outlaw words, that is 0.02% of total\n",
            "Across all seasons example of outlaw strings are ['MMMSOUP' 'BWAAAAA' 'Weeennnerrr' 'Noooooo' 'faaaaaaaaa' 'OOOOOOH' 'mmm'\n",
            " 'AHHHH' 'mooo' 'III' 'NOOOO' 'REEE' 'MONNN' 'Mmmm' 'sss' 'OHHH' 'faaaaa'\n",
            " 'MWAAAHH' 'HELLOOO' 'MMM']\n"
          ]
        }
      ],
      "source": [
        "print(\"Across all seasons {} strings are outlaw words, that is {:.2%} of total\".format(len(outlaws), len(outlaws)/ len(words)))\n",
        "print(\"Across all seasons example of outlaw strings are {}\".format(unique_res[:20]))"
      ]
    },
    {
      "cell_type": "markdown",
      "metadata": {
        "id": "pSlsF6WcXjPz"
      },
      "source": [
        "# Tokens"
      ]
    },
    {
      "cell_type": "code",
      "execution_count": 10,
      "metadata": {
        "id": "vaNHWmbIYufY"
      },
      "outputs": [
        {
          "name": "stdout",
          "output_type": "stream",
          "text": [
            "The total number of tokens across all season is: 1063767\n"
          ]
        }
      ],
      "source": [
        "tokens_season, tokens_norm, tokens_all, total_number_of_tokens = token_statistics(data)\n",
        "print(f\"The total number of tokens across all season is: {total_number_of_tokens}\")"
      ]
    },
    {
      "cell_type": "code",
      "execution_count": 11,
      "metadata": {},
      "outputs": [
        {
          "name": "stdout",
          "output_type": "stream",
          "text": [
            "Number of tokens in season 1 is: 98749\n",
            "Number of tokens in season 2 is: 103542\n",
            "Number of tokens in season 3 is: 109942\n",
            "Number of tokens in season 4 is: 103060\n",
            "Number of tokens in season 5 is: 107307\n",
            "Number of tokens in season 6 is: 110976\n",
            "Number of tokens in season 7 is: 107760\n",
            "Number of tokens in season 8 is: 111709\n",
            "Number of tokens in season 9 is: 121915\n",
            "Number of tokens in season 10 is: 88807\n"
          ]
        },
        {
          "data": {
            "image/png": "[encoded data removed]",
            "text/plain": [
              "<Figure size 432x288 with 1 Axes>"
            ]
          },
          "metadata": {
            "needs_background": "light"
          },
          "output_type": "display_data"
        }
      ],
      "source": [
        "token_season_counts = {}\n",
        "for season in range(1,11):\n",
        "    print(\"Number of tokens in season {} is: {}\".format(season, len(tokens_season[season])))\n",
        "    token_season_counts[season] = len(tokens_season[season])\n",
        "\n",
        "value = pd.DataFrame({\"Season\": token_season_counts.keys(), \"Words\": token_season_counts.values()})\n",
        "\n",
        "plot_corpus_characteristics(value,\n",
        "                           title = \"Distribution of Tokens Across Seasons\",\n",
        "                           xlabel=  \"Season\", \n",
        "                           ylabel = \"Number of Tokens\",\n",
        "                           tilt= False, type = \"bar\"\n",
        "                           )\n",
        "    "
      ]
    },
    {
      "cell_type": "code",
      "execution_count": 12,
      "metadata": {
        "colab": {
          "base_uri": "https://localhost:8080/"
        },
        "id": "QymvYn2uXkmj",
        "outputId": "276c4598-930a-4ce8-f7a6-69a99182262f"
      },
      "outputs": [
        {
          "name": "stdout",
          "output_type": "stream",
          "text": [
            "The total number of unique tokens across all season is: 98749\n",
            "The total number of unique tokens across all season is: 103542\n",
            "The total number of unique tokens across all season is: 109942\n",
            "The total number of unique tokens across all season is: 103060\n",
            "The total number of unique tokens across all season is: 107307\n",
            "The total number of unique tokens across all season is: 110976\n",
            "The total number of unique tokens across all season is: 107760\n",
            "The total number of unique tokens across all season is: 111709\n",
            "The total number of unique tokens across all season is: 121915\n",
            "The total number of unique tokens across all season is: 88807\n"
          ]
        },
        {
          "data": {
            "image/png": "[encoded data removed]",
            "text/plain": [
              "<Figure size 432x288 with 1 Axes>"
            ]
          },
          "metadata": {
            "needs_background": "light"
          },
          "output_type": "display_data"
        }
      ],
      "source": [
        "uniquetoken_season_counts = {}\n",
        "for season in range(1,11):\n",
        "    print(f\"The total number of unique tokens across all season is: {len(tokens_norm[season])}\")\n",
        "    uniquetoken_season_counts[season] = len(tokens_norm[season])\n",
        "\n",
        "value = pd.DataFrame({\"Season\": uniquetoken_season_counts.keys(), \"Words\": uniquetoken_season_counts.values()})\n",
        "\n",
        "plot_corpus_characteristics(value,\n",
        "                           title = \"Distribution of Unique Tokens Across Seasons\",\n",
        "                           xlabel=  \"Season\", \n",
        "                           ylabel = \"Number of Tokens\",\n",
        "                           tilt= False, type = \"bar\"\n",
        "                           )\n",
        "    \n",
        "    "
      ]
    },
    {
      "cell_type": "code",
      "execution_count": 13,
      "metadata": {
        "colab": {
          "base_uri": "https://localhost:8080/"
        },
        "id": "OI3EdQ5B2EXO",
        "outputId": "4b2eab1c-3746-4d00-8237-90a0666010c3"
      },
      "outputs": [
        {
          "name": "stdout",
          "output_type": "stream",
          "text": [
            "The 50 tokens in first 3 season are ['▁there', \"'\", 's', '▁nothing', '▁to', '▁tell', '.', '▁it', \"'\", 's', '▁just', '▁some', '▁guy', '▁i', '▁work', '▁with', '.', '▁you', \"'\", 're', '▁going', '▁out', '▁with', '▁him', '.', '▁there', \"'\", 's', '▁got', '▁to', '▁be', '▁something', '▁wrong', '▁with', '▁him', '.', '▁all', '▁right', ',', '▁jo', 'ey', ',', '▁be', '▁n', 'ice', '.', '▁so', ',', '▁does', '▁he']\n",
            "The 50 lemmatized tokens in first 3  season are ['▁there', \"'\", 's', '▁nothing', '▁to', '▁tell', '.', '▁it', \"'\", 's', '▁just', '▁some', '▁guy', '▁i', '▁work', '▁with', '.', '▁you', \"'\", 're', '▁going', '▁out', '▁with', '▁him', '.', '▁there', \"'\", 's', '▁got', '▁to', '▁be', '▁something', '▁wrong', '▁with', '▁him', '.', '▁all', '▁right', ',', '▁jo', 'ey', ',', '▁be', '▁n', 'ice', '.', '▁so', ',', '▁does', '▁he']\n",
            "The 50 tokens in first 3 season are ['▁this', '▁is', '▁pret', 'ty', '▁much', '▁what', \"'\", 's', '▁happened', '▁so', '▁far', '.', '▁ross', '▁was', '▁in', '▁love', '▁with', '▁ra', 'chel', '▁since', ',', '▁you', '▁know', ',', '▁fore', 'ver', '.', '▁but', ',', '▁every', '▁time', '▁he', '▁tried', '▁to', '▁tell', '▁her', '▁something', '▁kind', '▁of', '▁got', '▁in', '▁the', '▁way', '-', '-', '▁like', '▁c', 'ats', ',', '▁italian']\n",
            "The 50 lemmatized tokens in first 3  season are ['▁this', '▁is', '▁pret', 'ty', '▁much', '▁what', \"'\", 's', '▁happened', '▁so', '▁far', '.', '▁ross', '▁was', '▁in', '▁love', '▁with', '▁ra', 'chel', '▁since', ',', '▁you', '▁know', ',', '▁fore', 'ver', '.', '▁but', ',', '▁every', '▁time', '▁he', '▁tried', '▁to', '▁tell', '▁her', '▁something', '▁kind', '▁of', '▁got', '▁in', '▁the', '▁way', '-', '-', '▁like', '▁c', 'ats', ',', '▁italian']\n"
          ]
        }
      ],
      "source": [
        "for season in range(1,3):\n",
        "  print(f\"The 50 tokens in first 3 season are {tokens_season[season][:50]}\")\n",
        "  print(f\"The 50 lemmatized tokens in first 3  season are {tokens_norm[season][:50]}\")"
      ]
    },
    {
      "cell_type": "code",
      "execution_count": 14,
      "metadata": {},
      "outputs": [
        {
          "name": "stdout",
          "output_type": "stream",
          "text": [
            "Average number of characters per token in season 1 is: 3.2147\n",
            "Average number of characters per token in season 2 is: 3.2042\n",
            "Average number of characters per token in season 3 is: 3.2173\n",
            "Average number of characters per token in season 4 is: 3.2178\n",
            "Average number of characters per token in season 5 is: 3.1898\n",
            "Average number of characters per token in season 6 is: 3.2428\n",
            "Average number of characters per token in season 7 is: 3.2532\n",
            "Average number of characters per token in season 8 is: 3.2149\n",
            "Average number of characters per token in season 9 is: 3.2444\n",
            "Average number of characters per token in season 10 is: 3.2262\n"
          ]
        }
      ],
      "source": [
        "# Create list of token lengths for each token\n",
        "for season in range(1,11):\n",
        "  token_length = [len(t) for t in tokens_season[season]]\n",
        "  print(f\"Average number of characters per token in season {season} is: {round(np.mean(token_length),4)}\")"
      ]
    },
    {
      "cell_type": "code",
      "execution_count": 15,
      "metadata": {},
      "outputs": [
        {
          "data": {
            "image/png": "[encoded data removed]",
            "text/plain": [
              "<Figure size 432x288 with 1 Axes>"
            ]
          },
          "metadata": {
            "needs_background": "light"
          },
          "output_type": "display_data"
        }
      ],
      "source": [
        "token_length = [len(t) for t in tokens_season[10]]\n",
        "\n",
        "plot_corpus_characteristics(token_length,\n",
        "                           title = \"Example distribution of token length in Season 10\",\n",
        "                           xlabel=  \"Token Count\", \n",
        "                           ylabel = \"Token Length\",\n",
        "                           tilt = True, type= \"count\"\n",
        "                           )"
      ]
    },
    {
      "cell_type": "markdown",
      "metadata": {
        "id": "lyeaR8Z5k_Eh"
      },
      "source": [
        "Let's find the distribution of the tokens that has character length longer than 10."
      ]
    },
    {
      "cell_type": "code",
      "execution_count": 16,
      "metadata": {
        "colab": {
          "base_uri": "https://localhost:8080/"
        },
        "id": "QIlRmNcYjwxK",
        "outputId": "f418951e-516e-4a8b-c2f3-abef85d985a7"
      },
      "outputs": [
        {
          "data": {
            "text/plain": [
              "length\n",
              "11        119\n",
              "12         45\n",
              "13         13\n",
              "14          3\n",
              "16          1\n",
              "Name: count, dtype: int64"
            ]
          },
          "execution_count": 16,
          "metadata": {},
          "output_type": "execute_result"
        }
      ],
      "source": [
        "# Example distribution of token character length higher than 10 characters for Season 10.\n",
        "pd.DataFrame(data=token_length, columns=['length']).query(\"length>10\").value_counts()"
      ]
    },
    {
      "cell_type": "markdown",
      "metadata": {
        "id": "4Zsrw08Skx9s"
      },
      "source": [
        "Lets find out the rare tokens which has a token length longer than 15 characters. During preprocessing, finding and removing meaningless tokens among these rare tokens is considered as a good practice to avoid having them in the token vectors."
      ]
    },
    {
      "cell_type": "code",
      "execution_count": 17,
      "metadata": {
        "colab": {
          "base_uri": "https://localhost:8080/"
        },
        "id": "liMXeGxRkK1Y",
        "outputId": "ff730f88-8c6d-4023-afec-715a8700f269"
      },
      "outputs": [
        {
          "name": "stdout",
          "output_type": "stream",
          "text": [
            "['▁responsibility', '▁responsibility']\n",
            "['▁responsibility', '▁responsibility']\n",
            "['▁responsibility', '▁representation']\n",
            "['▁responsibility', '▁responsibility', '▁responsibility', '▁responsibility', '▁responsibility', '▁transportation', '▁responsibility']\n",
            "[]\n",
            "['▁responsibility', '▁responsibility', '▁responsibility']\n",
            "['▁responsibility', '▁representative', '▁transportation', '▁responsibility']\n",
            "[]\n",
            "['▁responsibility', '▁responsibility', '▁responsibility', '▁responsibility', '▁responsibility']\n",
            "['▁internationally']\n"
          ]
        }
      ],
      "source": [
        "for season in range(1,11):\n",
        "  print([t for t in  tokens_season[season] if len(t)>=15])\n"
      ]
    },
    {
      "cell_type": "markdown",
      "metadata": {
        "id": "ipukIORmlNaA"
      },
      "source": [
        "## Stop Words \n",
        "Let's look at the stop words from nltk library"
      ]
    },
    {
      "cell_type": "code",
      "execution_count": 18,
      "metadata": {},
      "outputs": [
        {
          "name": "stdout",
          "output_type": "stream",
          "text": [
            "There are 179 stopwords in NLTK library.\n",
            "\n",
            "The example stop words in NLTK library are: {\"you'd\", 'what', \"should've\", 'when', 'because', 'their', 'there', 'ma', 'further', 'but', \"haven't\", 'ours', 'wouldn', \"didn't\", 'shan', 'if', 'won', \"needn't\", 'few', \"you're\", \"mightn't\", \"shan't\", 'not', 'i', 'they', 'weren', 'again', 'o', 'mustn', \"isn't\", \"she's\", 'such', \"it's\", 'ourselves', \"shouldn't\", 'whom', 'who', 'most', 'll', 'y', 're', 'yourselves', 'same', 'isn', 'to', 'themselves', 'myself', 'needn', 'under', 'm', 'against', 'being', 'a', 'your', 'of', 's', 'didn', 'have', 'while', 'herself', 'hasn', \"doesn't\", 'in', 'were', 'with', \"aren't\", 'these', 'so', 'why', 'wasn', 'himself', 'hers', 'just', 'shouldn', 'that', 'where', \"you'll\", 'own', 'and', 'here', \"hadn't\", 'him', 'was', 'after', 'itself', \"weren't\", 'the', 'been', 'should', \"mustn't\", 'no', 'between', 'haven', 'it', \"wasn't\", \"wouldn't\", 'above', 'how', 'doing', 'can', 'his', \"won't\", 'then', 'we', 'very', 'until', 'through', 'having', 'theirs', 'ain', 'doesn', 'both', 'be', 'which', 'has', 'some', 'all', 'too', 'her', 'is', 'for', 'our', \"that'll\", 'couldn', 'as', 'any', 'hadn', 'its', 'me', \"hasn't\", 'she', 'are', 'on', 'yours', 'other', 'do', 'only', 'them', 'at', 'than', 'each', 'this', 'up', 't', 'had', \"don't\", 'below', 'or', \"you've\", 'about', 'from', 'during', 'did', 've', 'will', 'aren', 'down', 'by', 'before', 'don', 'an', 'more', 'nor', 'you', 'once', 'yourself', 'mightn', 'am', 'now', 'my', 'does', 'he', 'out', 'into', 'off', \"couldn't\", 'over', 'those', 'd'}\n"
          ]
        }
      ],
      "source": [
        "stop_words, freq_stopwords= stopword_statistics(tokens_norm)\n",
        "\n",
        "print(f\"There are {len(stop_words)} stopwords in NLTK library.\\n\")\n",
        "print(f\"The example stop words in NLTK library are:\", stop_words)\n"
      ]
    },
    {
      "cell_type": "markdown",
      "metadata": {
        "id": "A8S1q82jlnZF"
      },
      "source": [
        "Stop words can be extended based on the structure of the text. Let's find out what words occur so often in Friends transcripts, besides of the NLTK stopwords, such that could be added to stop words?"
      ]
    },
    {
      "cell_type": "code",
      "execution_count": 19,
      "metadata": {
        "colab": {
          "base_uri": "https://localhost:8080/"
        },
        "id": "S51sScSmlzvX",
        "outputId": "7fe3466e-28f7-454d-8edb-452cf4c30935"
      },
      "outputs": [
        {
          "name": "stdout",
          "output_type": "stream",
          "text": [
            "The top ten frequent stopwords of season 10 are\n",
            "[('s', 1438), ('t', 900), ('m', 552), ('y', 484), ('re', 456), ('be', 223), ('ll', 179), ('i', 144), ('ve', 115), ('ma', 104)]\n"
          ]
        }
      ],
      "source": [
        "print(\"The top ten frequent stopwords of season {} are\".format(season))\n",
        "print(freq_stopwords[:10])"
      ]
    },
    {
      "cell_type": "markdown",
      "metadata": {
        "id": "szBjkWkkmpa_"
      },
      "source": [
        "Let's find out what is the proportion of the stopwords in our text per season."
      ]
    },
    {
      "cell_type": "code",
      "execution_count": 20,
      "metadata": {
        "colab": {
          "base_uri": "https://localhost:8080/"
        },
        "id": "IiEMKKHKmtjq",
        "outputId": "ecf3b078-f221-47dc-f816-72201a751053"
      },
      "outputs": [
        {
          "name": "stdout",
          "output_type": "stream",
          "text": [
            "5861 tokens are stop words out of 98749 tokens in season 1.\n",
            "That is 5.94%.\n",
            "5939 tokens are stop words out of 103542 tokens in season 2.\n",
            "That is 5.74%.\n",
            "6310 tokens are stop words out of 109942 tokens in season 3.\n",
            "That is 5.74%.\n",
            "5716 tokens are stop words out of 103060 tokens in season 4.\n",
            "That is 5.55%.\n",
            "5932 tokens are stop words out of 107307 tokens in season 5.\n",
            "That is 5.53%.\n",
            "6230 tokens are stop words out of 110976 tokens in season 6.\n",
            "That is 5.61%.\n",
            "6239 tokens are stop words out of 107760 tokens in season 7.\n",
            "That is 5.79%.\n",
            "6748 tokens are stop words out of 111709 tokens in season 8.\n",
            "That is 6.04%.\n",
            "7162 tokens are stop words out of 121915 tokens in season 9.\n",
            "That is 5.87%.\n",
            "5274 tokens are stop words out of 88807 tokens in season 10.\n",
            "That is 5.94%.\n"
          ]
        }
      ],
      "source": [
        "for season in range(1,11):\n",
        "  n_stopwords = len([t for t in tokens_norm[season] if t in stop_words])\n",
        "  print(f\"{n_stopwords} tokens are stop words out of {len(tokens_norm[season])} tokens in season {season}.\")\n",
        "  print(f\"That is {round(100*n_stopwords/len(tokens_norm[season]),2)}%.\")"
      ]
    },
    {
      "cell_type": "markdown",
      "metadata": {
        "id": "anKlxKxlC7kd"
      },
      "source": [
        "Let's find out how the number of the tokens in the Friends transcripts are affected if we exclude the stop words from the transcripts."
      ]
    },
    {
      "cell_type": "code",
      "execution_count": 21,
      "metadata": {
        "colab": {
          "base_uri": "https://localhost:8080/"
        },
        "id": "BcoUjNJJn2EF",
        "outputId": "f6461797-6a22-4425-fe72-84ddf91d4768"
      },
      "outputs": [
        {
          "name": "stdout",
          "output_type": "stream",
          "text": [
            "Number of tokens for season 1 is: 92888\n",
            "Number of tokens for season 2 is: 97603\n",
            "Number of tokens for season 3 is: 103632\n",
            "Number of tokens for season 4 is: 97344\n",
            "Number of tokens for season 5 is: 101375\n",
            "Number of tokens for season 6 is: 104746\n",
            "Number of tokens for season 7 is: 101521\n",
            "Number of tokens for season 8 is: 104961\n",
            "Number of tokens for season 9 is: 114753\n",
            "Number of tokens for season 10 is: 83533\n"
          ]
        }
      ],
      "source": [
        "# first clean stop words\n",
        "tokens_clean = {}\n",
        "for season in range(1,11):\n",
        "  tokens_clean[season] = [t for t in tokens_norm[season] if t not in stop_words]\n",
        "  print(f\"Number of tokens for season {season} is: {len(tokens_clean[season])}\")"
      ]
    },
    {
      "cell_type": "markdown",
      "metadata": {
        "id": "2E_l4Bzbn1se"
      },
      "source": [
        "# Common n-grams\n",
        "\n",
        "N-grams constitute simple but yet crucial functionality in processing natural language. It allows models to better capture the contextual information from the text, by helping the model to perform better. \n",
        "\n",
        "That is why understanding the n-gram characteristics of Friends text maintains an essential gain in  understanding their role in the model performance. Then let's investigate what are the n-gram properties in the Friends corpus. "
      ]
    },
    {
      "cell_type": "code",
      "execution_count": 22,
      "metadata": {
        "colab": {
          "base_uri": "https://localhost:8080/",
          "height": 1000
        },
        "id": "9mraRfqWp1rO",
        "outputId": "16ade919-7dbc-4eac-a482-3c5b921a0bb1"
      },
      "outputs": [
        {
          "ename": "SyntaxError",
          "evalue": "invalid syntax. Perhaps you forgot a comma? (1523796634.py, line 41)",
          "output_type": "error",
          "traceback": [
            "\u001b[0;36m  File \u001b[0;32m\"/tmp/ipykernel_176005/1523796634.py\"\u001b[0;36m, line \u001b[0;32m41\u001b[0m\n\u001b[0;31m    title = f\"{mapping[ngram]}gram Characteristics for Season {season}\"\u001b[0m\n\u001b[0m            ^\u001b[0m\n\u001b[0;31mSyntaxError\u001b[0m\u001b[0;31m:\u001b[0m invalid syntax. Perhaps you forgot a comma?\n"
          ]
        }
      ],
      "source": [
        "# Get frequent ngrams for all 4\n",
        "for season in range(1,11):\n",
        "  keywords = preprocess_text(rslt_df, stop_words)\n",
        "\n",
        "import matplotlib.pyplot as plt\n",
        "\n",
        "from collections import defaultdict\n",
        "\n",
        "\n",
        "def ngram_extractor(text, n_gram, stop_words):\n",
        "    token = [\n",
        "        token\n",
        "        for token in text.lower().split(\" \")\n",
        "        if token != \"\"\n",
        "        if token not in stop_words\n",
        "    ]\n",
        "    ngrams = zip(*[token[i:] for i in range(n_gram)])\n",
        "    return [\" \".join(ngram) for ngram in ngrams]\n",
        "\n",
        "\n",
        "# Function to generate a dataframe with n_gram and top max_row frequencies\n",
        "def generate_ngrams(df, n_gram, max_row, stop_words):\n",
        "    temp_dict = defaultdict(int)\n",
        "    for question in df:\n",
        "        for word in ngram_extractor(question, n_gram, stop_words):\n",
        "            temp_dict[word] += 1\n",
        "    temp_df = pd.DataFrame(sorted(temp_dict.items(), key=lambda x: x[1])[::-1]).head(\n",
        "        max_row\n",
        "    )\n",
        "    temp_df.columns = [\"word\", \"wordcount\"]\n",
        "    return temp_df\n",
        "\n",
        "rslt_df = data[data['season'] == 3]\n",
        "mapping = {1:\"uni\", 2:\"bi\", 3:\"tri\", 4:\"four\"}\n",
        "\n",
        "ans_bigram = generate_ngrams(rslt_df[\"line\"], 2, 20, stop_words)\n",
        "\n",
        "ngram = 2\n",
        "season = 1\n",
        "plot_corpus_characteristics(ans_bigram,\n",
        "                           title = f\"{mapping[ngram]}gram Characteristics for Season {season}\"\n",
        "                           xlabel=  \"Frequency\", \n",
        "                           ylabel = \"Ngrams\",\n",
        "                           tilt = True, \n",
        "                           type = \"ngram\"\n",
        ")\n",
        "\n",
        "print(ans_bigram)\n",
        "#generate barplot for bigram\n",
        "fig, ax = plt.subplots()\n",
        "\n",
        "# Example data\n",
        "y_pos = np.arange(len(ans_bigram))\n",
        "\n",
        "ax.barh(y_pos, ans_bigram[\"wordcount\"])\n",
        "ax.set_yticks(y_pos, labels=ans_bigram[\"word\"])\n",
        "ax.invert_yaxis() \n",
        "plt.title(\"Top 20 Bigrams for Answer body\")\n",
        "\n",
        "# plt.figure(figsize=(12,8))\n",
        "# plt.invert_yaxis()\n",
        "# plt.barh(ans_bigram[\"word\"], ans_bigram[\"wordcount\"])\n",
        "# plt.xlabel(\"Word Count\", fontsize=15)\n",
        "# plt.ylabel(\"Bigrams\", fontsize=15)\n",
        "# plt.xticks(rotation=45)\n",
        "# plt.title(\"Top 20 Bigrams for Answer body\")\n",
        "# plt.show()\n",
        "# print(ans_bigram)\n",
        "\n",
        "  \n",
        "  "
      ]
    },
    {
      "cell_type": "code",
      "execution_count": null,
      "metadata": {},
      "outputs": [],
      "source": [
        "\n",
        "  \n",
        "  # mapping = {1:\"uni\", 2:\"bi\", 3:\"tri\", 4:\"four\"}\n",
        "  # plt.figure(figsize=(6,4))  \n",
        "  # print(get_frequent_ngram(keywords, i))\n",
        "  # new_data = get_frequent_ngram(keywords, i)\n",
        "  # plt.bar(new_data[\"ngram\"], new_data[\"count\"])\n",
        "  # plt.title(f\"Most common {mapping[i]}grams in season {season}\");\n",
        "\n",
        "# plt.figure(figsize=(12,8))\n",
        "# sns.barplot(ans_unigram[\"wordcount\"],ans_unigram[\"word\"])\n",
        "# plt.xlabel(\"Word Count\", fontsize=15)\n",
        "# plt.ylabel(\"Unigrams\", fontsize=15)\n",
        "# plt.title(\"Top 20 Unigrams for Answer body\")\n",
        "# plt.show()\n",
        "  \n",
        "# # from nltk.util import ngrams\n",
        "\n",
        "# # Find ngrams per document\n",
        "# n_grams = list(ngrams(keywords, 1))\n",
        "# print(n_grams)\n",
        "# n_grams = list(ngrams(keywords,1))\n",
        "# # Find frequency of ngrams\n",
        "# freq_dist = FreqDist(n_grams)\n",
        "# top_freq = freq_dist.most_common(20)\n",
        "\n",
        "# print(top_freq)\n",
        "# print(pd.DataFrame(top_freq, columns=[\"ngram\", \"count\"]))\n",
        "\n",
        "# sns.barplot(x=\"count\", y=\"ngram\", data=pd.DataFrame(top_freq, columns=[\"ngram\", \"count\"]))\n",
        "\n",
        "# for i in range(1,5):\n",
        "#   mapping = {1:\"uni\", 2:\"bi\", 3:\"tri\", 4:\"four\"}\n",
        "#   plt.figure(figsize=(6,4))\n",
        "#   sns.barplot(x=\"count\", y=\"ngram\", value=get_frequent_ngram(keywords, i))\n",
        "#   plt.title(f\"Most common {mapping[i]}grams in season {season}\");\n",
        "\n",
        " \n",
        "  # plot_corpus_characteristics(token_length,\n",
        "  #                          title = \"Example distribution of token length in Season 10\",\n",
        "  #                          xlabel=  \"Token Count\", \n",
        "  #                          ylabel = \"Token Length\",\n",
        "  #                          tilt = True, type= \"count\"\n",
        "  #                          )\n",
        "  \n",
        "\n",
        "  # for i in range(1,5):\n",
        "  #   mapping = {1:\"uni\", 2:\"bi\", 3:\"tri\", 4:\"four\"}\n",
        "  #   plt.figure(figsize=(6,4))\n",
        "  #   sns.barplot(x=\"count\", y=\"ngram\", data=get_frequent_ngram(keywords, i))\n",
        "  #   plt.title(f\"Most common {mapping[i]}grams in season {season}\");"
      ]
    },
    {
      "cell_type": "markdown",
      "metadata": {
        "id": "6W1Hm1qkz3lU"
      },
      "source": [
        "# The number of Utterances"
      ]
    },
    {
      "cell_type": "code",
      "execution_count": null,
      "metadata": {
        "colab": {
          "base_uri": "https://localhost:8080/"
        },
        "id": "6dImJGUXz7TY",
        "outputId": "1acb9034-8088-4489-b083-ba263cc9cfc1"
      },
      "outputs": [],
      "source": [
        "print(\"The total number of lines in ten season of Friends is {}\".format(len(corpus)))"
      ]
    },
    {
      "cell_type": "markdown",
      "metadata": {
        "id": "Qwz_GyKNz755"
      },
      "source": [
        "# The Utterances per season"
      ]
    },
    {
      "cell_type": "code",
      "execution_count": null,
      "metadata": {
        "colab": {
          "base_uri": "https://localhost:8080/",
          "height": 410
        },
        "id": "K2m_-u2x6dr7",
        "outputId": "415b1784-c2c5-4c59-98e4-d0a80b3bb218"
      },
      "outputs": [],
      "source": [
        "countS = Counter(seasons)\n",
        "del countS['Season']\n",
        "\n",
        "vals = list(countS.values())[9:]+list(countS.values())[:9]\n",
        "keys = list(countS.keys())[9:]+list(countS.keys())[:9]\n",
        "countS = dict(zip(keys, vals))\n",
        "\n",
        "lines_per_season = pd.DataFrame({\"Season\": countS.keys(), \"Unique_words\": countS.values()})\n",
        "\n",
        "\n",
        "plot_corpus_characteristics(lines_per_season,\n",
        "                           title = \"Distribution of Line per Season\",\n",
        "                           xlabel=  \"Season\", \n",
        "                           ylabel = \"Number of lines\",\n",
        "                           tilt = True, \n",
        "                           type = \"bar\"\n",
        ")"
      ]
    },
    {
      "cell_type": "markdown",
      "metadata": {
        "id": "MKSItmSk0I39"
      },
      "source": [
        "# Lines per episode\n"
      ]
    },
    {
      "cell_type": "code",
      "execution_count": null,
      "metadata": {
        "colab": {
          "base_uri": "https://localhost:8080/",
          "height": 406
        },
        "id": "eWVonqJ_58Df",
        "outputId": "ed652d19-dfda-44af-bc49-ebfefd7a7801"
      },
      "outputs": [],
      "source": [
        "#lines per episode\n",
        "countE = Counter(episodes)\n",
        "lines_per_season = pd.DataFrame({\"Season\": countE.keys(), \"Unique_words\": countE.values()})\n",
        "\n",
        "plot_corpus_characteristics(lines_per_season,\n",
        "                           title = \"Distribution of Line per Episodes\",\n",
        "                           xlabel=  \"Episodes\", \n",
        "                           ylabel = \"Number of lines\",\n",
        "                           tilt = True, \n",
        "                           type = \"bar\"\n",
        ")"
      ]
    },
    {
      "cell_type": "markdown",
      "metadata": {
        "id": "ncF7hyhSovHJ"
      },
      "source": [
        "## Transcript Collected From the Internet\n",
        "This dataset contains the set of Friends transcripts from a [Github repository(https://fangj.github.io/friends/) which were curated by the fans. Therefore, these transcripts do not refer to the 100% the original transcripts and might miss some discourse between the characters in the show."
      ]
    },
    {
      "cell_type": "markdown",
      "metadata": {
        "id": "oyjlD_22-H-z"
      },
      "source": [
        "# Character Analysis"
      ]
    },
    {
      "cell_type": "code",
      "execution_count": null,
      "metadata": {
        "colab": {
          "base_uri": "https://localhost:8080/"
        },
        "id": "j4xwLIXsjMod",
        "outputId": "002a5965-2266-438f-d204-3e57143c63b1"
      },
      "outputs": [],
      "source": [
        "# load the internet found transcript files\n",
        "datapath = \"internet_found_friends_transcript.csv\"\n",
        "seasons, corpus, episodes, narrator = load_csv_file(datapath)\n",
        "\n",
        "# print the first 5 narrators\n",
        "print(narrator[:5]) # Shows the first 5 lines of the corpus)"
      ]
    },
    {
      "cell_type": "code",
      "execution_count": null,
      "metadata": {
        "colab": {
          "base_uri": "https://localhost:8080/"
        },
        "id": "CX3Bs7ME-J9T",
        "outputId": "9b64f9c4-3ed7-4efe-ca9c-7b2e52577c14"
      },
      "outputs": [],
      "source": [
        "count = Counter(narrator)\n",
        "print(\"{} characters took part in Friends across 10 Seasons\".format(len(count.keys())))"
      ]
    },
    {
      "cell_type": "code",
      "execution_count": null,
      "metadata": {
        "colab": {
          "base_uri": "https://localhost:8080/"
        },
        "id": "0kOkRkbS8xHF",
        "outputId": "80a88252-d7af-4f1e-f4dc-4ed4bb744208"
      },
      "outputs": [],
      "source": [
        "print(narrator.unique())"
      ]
    },
    {
      "cell_type": "code",
      "execution_count": null,
      "metadata": {
        "colab": {
          "base_uri": "https://localhost:8080/"
        },
        "id": "PR7iUQdP-Y6X",
        "outputId": "b7d32965-a0d3-4cb3-d869-5d9eb80405c8"
      },
      "outputs": [],
      "source": [
        "# remove characters who talks less than 1000 lines\n",
        "narrator_count={}\n",
        "\n",
        "i = 0\n",
        "for j in count.keys():\n",
        "    if list(count.values())[i] > 200:\n",
        "      name = list(count.keys())[i]\n",
        "      name=re.sub(\":\",\"\",name)\n",
        "      name= name.capitalize()\n",
        "      narrator_count[name] = list(count.values())[i]\n",
        "    i += 1\n",
        "#print(narrator_count)\n",
        "\n",
        "sorted_narrator_count = sorted(narrator_count.items(), key=lambda x:x[1])\n",
        "\n",
        "print(\"The characters had higest number of lines in ascending order is:\")\n",
        "print(sorted_narrator_count)\n",
        "\n",
        "character_lines = {}\n",
        "\n",
        "for i in sorted_narrator_count:\n",
        "   character_lines[i[0]] =  i[1]"
      ]
    },
    {
      "cell_type": "code",
      "execution_count": null,
      "metadata": {},
      "outputs": [],
      "source": [
        "lines_per_season = pd.DataFrame({\"Narrators\": character_lines.keys(), \"Narrator_lines\": character_lines.values()})\n",
        "\n",
        "\n",
        "plot_corpus_characteristics(lines_per_season,\n",
        "                           title = \"Distribution of Narrator Lines\",\n",
        "                           xlabel=  \"Narrator\", \n",
        "                           ylabel = \"Number of lines\",\n",
        "                           tilt = True, \n",
        "                           type = \"bar\"\n",
        ")"
      ]
    },
    {
      "cell_type": "markdown",
      "metadata": {
        "id": "XuhBV2SG0Yo2"
      },
      "source": [
        "# Number of Narrators per season"
      ]
    },
    {
      "cell_type": "code",
      "execution_count": null,
      "metadata": {
        "colab": {
          "base_uri": "https://localhost:8080/",
          "height": 410
        },
        "id": "6kW0d_QPJLg9",
        "outputId": "51bbb3bc-cb9c-48b4-94d8-45750b2a13ed"
      },
      "outputs": [],
      "source": [
        "# Number of characters per season\n",
        "season_narrator = {}\n",
        "for season in range(1,11):\n",
        "    rslt_df = data[data['season'] == season]\n",
        "    season_narrator[season]= rslt_df.narrator.unique().size\n",
        "\n",
        "narrator_per_season = pd.DataFrame({\"Season\": season_narrator.keys(), \"Narrator_lines\": season_narrator_.values()})\n",
        "\n",
        "\n",
        "plot_corpus_characteristics(narrator_per_season,\n",
        "                           title = \"Distribution of Narrators per Season\",\n",
        "                           xlabel=  \"Season\", \n",
        "                           ylabel = \"Number of Narrators\",\n",
        "                           tilt = True, \n",
        "                           type = \"bar\"\n",
        ")"
      ]
    }
  ],
  "metadata": {
    "colab": {
      "provenance": []
    },
    "kernelspec": {
      "display_name": "Python 3",
      "name": "python3"
    },
    "language_info": {
      "codemirror_mode": {
        "name": "ipython",
        "version": 3
      },
      "file_extension": ".py",
      "mimetype": "text/x-python",
      "name": "python",
      "nbconvert_exporter": "python",
      "pygments_lexer": "ipython3",
      "version": "3.10.12"
    }
  },
  "nbformat": 4,
  "nbformat_minor": 0
}
